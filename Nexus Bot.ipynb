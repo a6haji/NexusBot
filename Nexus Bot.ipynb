{
 "cells": [
  {
   "cell_type": "code",
   "execution_count": 5,
   "metadata": {
    "scrolled": false
   },
   "outputs": [
    {
     "name": "stdout",
     "output_type": "stream",
     "text": [
      "[{'locationId': 5060, 'startTimestamp': '2022-10-31T10:15', 'endTimestamp': '2022-10-31T10:30', 'active': True, 'duration': 15, 'remoteInd': False}]\n"
     ]
    }
   ],
   "source": [
    "import requests\n",
    "import smtplib, ssl\n",
    "import time\n",
    "\n",
    "looper = True\n",
    "\n",
    "\n",
    "# Variables for the email\n",
    "# port = 587  # For starttls\n",
    "# smtp_server = \"smtp-mail.outlook.com\"\n",
    "# sender_email = \"aly_haji99@hotmail.com\"\n",
    "# receiver_email = \"aly.haji99@gmail.com\"\n",
    "# password = input(\"Type your password and press enter:\")\n",
    "\n",
    "\n",
    "#Main\n",
    "while (looper):\n",
    "    #5161 is Niagara. 5060 is michigan that has timeslots. Call the appointments\n",
    "    r = requests.get('https://ttp.cbp.dhs.gov/schedulerapi/slots?orderBy=soonest&limit=1&locationId=5060&minimum=1')\n",
    "    apt_list = r.json()\n",
    "\n",
    "    if len(apt_list) == 0:\n",
    "        print(\"no appointments\")\n",
    "        time.sleep(6) #Check again in 6 seconds\n",
    "    \n",
    "    else:\n",
    "#         print(type(apt_list[0]['startTimestamp'])) figures out what data type this is.\n",
    "        looper = False\n",
    "#         print(\"Email should have been sent\")\n",
    "#         send_email(apt_list[0]['startTimestamp'])\n",
    "#         looper = False\n",
    "        \n",
    "\n",
    "#Function for sending the email\n",
    "def send_email(timeStamp):\n",
    "    message = \"\"\"\\\n",
    "    Subject: Hi there\n",
    "\n",
    "    There is an appointment in Niagara on: \"\"\" + timeStamp\n",
    "    \n",
    "    context = ssl.create_default_context()\n",
    "    with smtplib.SMTP(smtp_server, port) as server:\n",
    "        server.ehlo()  # Can be omitted\n",
    "        server.starttls(context=context)\n",
    "        server.ehlo()  # Can be omitted\n",
    "        server.login(sender_email, password)\n",
    "        server.sendmail(sender_email, receiver_email, message)"
   ]
  },
  {
   "cell_type": "code",
   "execution_count": null,
   "metadata": {},
   "outputs": [],
   "source": []
  }
 ],
 "metadata": {
  "kernelspec": {
   "display_name": "Python 3",
   "language": "python",
   "name": "python3"
  },
  "language_info": {
   "codemirror_mode": {
    "name": "ipython",
    "version": 3
   },
   "file_extension": ".py",
   "mimetype": "text/x-python",
   "name": "python",
   "nbconvert_exporter": "python",
   "pygments_lexer": "ipython3",
   "version": "3.8.3"
  }
 },
 "nbformat": 4,
 "nbformat_minor": 4
}
